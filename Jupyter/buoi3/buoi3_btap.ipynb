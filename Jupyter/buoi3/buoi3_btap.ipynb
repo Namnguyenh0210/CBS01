{
 "cells": [
  {
   "cell_type": "code",
   "execution_count": 79,
   "metadata": {},
   "outputs": [
    {
     "name": "stdout",
     "output_type": "stream",
     "text": [
      "       Tên Giới tính  Điểm Toán  Điểm Anh Văn  Điểm Ngữ Văn   Lớp\n",
      "0      Hoa        Nữ          7             6             5  11B2\n",
      "1      Nam        Nữ          6            10             9  12C1\n",
      "2      Hai        Nữ         10             7             5  11B1\n",
      "3     Linh        Nữ          6             6             7  10A2\n",
      "4     Nhan        Nữ          7            10             9  10A2\n",
      "5   Phuong        Nữ         10             6             9  12C2\n",
      "6      Thu       Nam         10             7            10  12C1\n",
      "7       Vu       Nam         10             9             7  10A2\n",
      "8      Bao        Nữ          5             7             7  11B2\n",
      "9     Hieu        Nữ         10             6             6  10A1\n",
      "10     Lan       Nam         10             5             5  12C1\n",
      "11     Duy       Nam          6             6             8  11B2\n",
      "12    Tuan        Nữ          8             7             6  11B2\n",
      "13    Kien        Nữ          9            10             7  10A1\n",
      "14    Minh        Nữ          8             6             8  12C1\n",
      "15   Trung        Nữ          7             7             9  11B2\n",
      "16   Quyen       Nam          5             8            10  10A1\n",
      "17    Tung        Nữ          5             9             7  11B1\n",
      "18    Hien       Nam          8             5             9  12C1\n",
      "19     Mai        Nữ          8             8            10  12C2\n"
     ]
    }
   ],
   "source": [
    "import pandas as pd\n",
    "import random\n",
    "\n",
    "\n",
    "names = ['Hoa', 'Nam', 'Hai', 'Linh', 'Nhan', 'Phuong', 'Thu', 'Vu', 'Bao', 'Hieu', 'Lan', 'Duy', 'Tuan', 'Kien', 'Minh', 'Trung', 'Quyen', 'Tung', 'Hien', 'Mai']\n",
    "genders = ['Nam', 'Nữ']\n",
    "classes = ['10A1', '10A2', '11B1', '11B2', '12C1', '12C2']\n",
    "\n",
    "\n",
    "def generate_scores():\n",
    "    return [random.randint(5, 10) for _ in range(3)] \n",
    "\n",
    "\n",
    "data = {\n",
    "    'Tên': names,\n",
    "    'Giới tính': [random.choice(genders) for _ in names],\n",
    "    'Điểm Toán': [score[0] for score in [generate_scores() for _ in names]],\n",
    "    'Điểm Anh Văn': [score[1] for score in [generate_scores() for _ in names]],\n",
    "    'Điểm Ngữ Văn': [score[2] for score in [generate_scores() for _ in names]],\n",
    "    'Lớp': [random.choice(classes) for _ in names]\n",
    "}\n",
    "\n",
    "\n",
    "students_df = pd.DataFrame(data)\n",
    "\n",
    "print(students_df)"
   ]
  },
  {
   "cell_type": "markdown",
   "metadata": {},
   "source": [
    "### Tính điểm trung bình của từng học sinh."
   ]
  },
  {
   "cell_type": "code",
   "execution_count": 80,
   "metadata": {},
   "outputs": [
    {
     "name": "stdout",
     "output_type": "stream",
     "text": [
      "       Tên Giới tính  Điểm Toán  Điểm Anh Văn  Điểm Ngữ Văn   Lớp  \\\n",
      "0      Hoa        Nữ          7             6             5  11B2   \n",
      "1      Nam        Nữ          6            10             9  12C1   \n",
      "2      Hai        Nữ         10             7             5  11B1   \n",
      "3     Linh        Nữ          6             6             7  10A2   \n",
      "4     Nhan        Nữ          7            10             9  10A2   \n",
      "5   Phuong        Nữ         10             6             9  12C2   \n",
      "6      Thu       Nam         10             7            10  12C1   \n",
      "7       Vu       Nam         10             9             7  10A2   \n",
      "8      Bao        Nữ          5             7             7  11B2   \n",
      "9     Hieu        Nữ         10             6             6  10A1   \n",
      "10     Lan       Nam         10             5             5  12C1   \n",
      "11     Duy       Nam          6             6             8  11B2   \n",
      "12    Tuan        Nữ          8             7             6  11B2   \n",
      "13    Kien        Nữ          9            10             7  10A1   \n",
      "14    Minh        Nữ          8             6             8  12C1   \n",
      "15   Trung        Nữ          7             7             9  11B2   \n",
      "16   Quyen       Nam          5             8            10  10A1   \n",
      "17    Tung        Nữ          5             9             7  11B1   \n",
      "18    Hien       Nam          8             5             9  12C1   \n",
      "19     Mai        Nữ          8             8            10  12C2   \n",
      "\n",
      "    Điểm trung bình  \n",
      "0          6.000000  \n",
      "1          8.333333  \n",
      "2          7.333333  \n",
      "3          6.333333  \n",
      "4          8.666667  \n",
      "5          8.333333  \n",
      "6          9.000000  \n",
      "7          8.666667  \n",
      "8          6.333333  \n",
      "9          7.333333  \n",
      "10         6.666667  \n",
      "11         6.666667  \n",
      "12         7.000000  \n",
      "13         8.666667  \n",
      "14         7.333333  \n",
      "15         7.666667  \n",
      "16         7.666667  \n",
      "17         7.000000  \n",
      "18         7.333333  \n",
      "19         8.666667  \n"
     ]
    }
   ],
   "source": [
    "# Tạo DataFrame\n",
    "students_df = pd.DataFrame(data)\n",
    "\n",
    "# Tính điểm trung bình\n",
    "students_df['Điểm trung bình'] = students_df[['Điểm Toán', 'Điểm Anh Văn', 'Điểm Ngữ Văn']].mean(axis=1)\n",
    "\n",
    "# In kết quả\n",
    "print(students_df)"
   ]
  },
  {
   "cell_type": "markdown",
   "metadata": {},
   "source": [
    "## Tìm học sinh có điểm Toán cao nhất."
   ]
  },
  {
   "cell_type": "code",
   "execution_count": 81,
   "metadata": {},
   "outputs": [
    {
     "name": "stdout",
     "output_type": "stream",
     "text": [
      "       Tên Giới tính  Điểm Toán  Điểm Anh Văn  Điểm Ngữ Văn   Lớp\n",
      "2      Hai        Nữ         10             7             5  11B1\n",
      "5   Phuong        Nữ         10             6             9  12C2\n",
      "6      Thu       Nam         10             7            10  12C1\n",
      "7       Vu       Nam         10             9             7  10A2\n",
      "9     Hieu        Nữ         10             6             6  10A1\n",
      "10     Lan       Nam         10             5             5  12C1\n"
     ]
    }
   ],
   "source": [
    "students_df = pd.DataFrame(data)\n",
    "\n",
    "# tim hoc sinh co diem toan cao nhat\n",
    "max_math_score = students_df['Điểm Toán'].max()\n",
    "best_math_students = students_df[students_df['Điểm Toán'] == max_math_score]\n",
    "print(best_math_students)\n",
    "\n",
    "\n",
    "\n"
   ]
  },
  {
   "cell_type": "markdown",
   "metadata": {},
   "source": [
    "## Tính điểm trung bình môn Anh Văn của toàn lớp."
   ]
  },
  {
   "cell_type": "code",
   "execution_count": 87,
   "metadata": {},
   "outputs": [
    {
     "name": "stdout",
     "output_type": "stream",
     "text": [
      "7.25\n",
      "       Tên Giới tính  Điểm Toán  Điểm Anh Văn  Điểm Ngữ Văn   Lớp  \\\n",
      "0      Hoa        Nữ          7             6             5  11B2   \n",
      "1      Nam        Nữ          6            10             9  12C1   \n",
      "2      Hai        Nữ         10             7             5  11B1   \n",
      "3     Linh        Nữ          6             6             7  10A2   \n",
      "4     Nhan        Nữ          7            10             9  10A2   \n",
      "5   Phuong        Nữ         10             6             9  12C2   \n",
      "6      Thu       Nam         10             7            10  12C1   \n",
      "7       Vu       Nam         10             9             7  10A2   \n",
      "8      Bao        Nữ          5             7             7  11B2   \n",
      "9     Hieu        Nữ         10             6             6  10A1   \n",
      "10     Lan       Nam         10             5             5  12C1   \n",
      "11     Duy       Nam          6             6             8  11B2   \n",
      "12    Tuan        Nữ          8             7             6  11B2   \n",
      "13    Kien        Nữ          9            10             7  10A1   \n",
      "14    Minh        Nữ          8             6             8  12C1   \n",
      "15   Trung        Nữ          7             7             9  11B2   \n",
      "16   Quyen       Nam          5             8            10  10A1   \n",
      "17    Tung        Nữ          5             9             7  11B1   \n",
      "18    Hien       Nam          8             5             9  12C1   \n",
      "19     Mai        Nữ          8             8            10  12C2   \n",
      "\n",
      "    Điểm trung bình  \n",
      "0          6.000000  \n",
      "1          8.333333  \n",
      "2          7.333333  \n",
      "3          6.333333  \n",
      "4          8.666667  \n",
      "5          8.333333  \n",
      "6          9.000000  \n",
      "7          8.666667  \n",
      "8          6.333333  \n",
      "9          7.333333  \n",
      "10         6.666667  \n",
      "11         6.666667  \n",
      "12         7.000000  \n",
      "13         8.666667  \n",
      "14         7.333333  \n",
      "15         7.666667  \n",
      "16         7.666667  \n",
      "17         7.000000  \n",
      "18         7.333333  \n",
      "19         8.666667  \n"
     ]
    }
   ],
   "source": [
    "students_df = pd.DataFrame(data)\n",
    "\n",
    "# Tính điểm trung bình Anh Văn\n",
    "students_df['Điểm trung bình'] = students_df[['Điểm Toán', 'Điểm Anh Văn', 'Điểm Ngữ Văn']].mean(axis=1)\n",
    "\n",
    "# Tính điểm trung bình môn Anh Văn của toàn l��p\n",
    "class_avg = students_df['Điểm Anh Văn'].mean()\n",
    "print(class_avg)\n",
    "print(students_df)\n",
    "\n"
   ]
  },
  {
   "cell_type": "markdown",
   "metadata": {},
   "source": [
    "## Đếm số học sinh nam và nữ trong lớp.\n"
   ]
  },
  {
   "cell_type": "code",
   "execution_count": 91,
   "metadata": {},
   "outputs": [
    {
     "name": "stdout",
     "output_type": "stream",
     "text": [
      "Tổng số học sinh cả khối là: 20\n",
      "Số học sinh nam là:  6\n",
      "Số học sinh nữ là:  14\n"
     ]
    }
   ],
   "source": [
    "students_df = pd.DataFrame(data)\n",
    "\n",
    "# Tính t��ng số học sinh\n",
    "total_students = students_df['Tên'].count()\n",
    "print(\"Tổng số học sinh cả khối là:\",total_students)\n",
    "\n",
    "# Tính số học sinh nam\n",
    "male_students = students_df[students_df['Giới tính'] == 'Nam']['Tên'].count()\n",
    "print(\"Số học sinh nam là: \" ,male_students)\n",
    "\n",
    "# Tính số học sinh nữ\n",
    "female_students = students_df[students_df['Giới tính'] == 'Nữ']['Tên'].count()\n",
    "print(\"Số học sinh nữ là: \" ,female_students)\n",
    "\n"
   ]
  },
  {
   "cell_type": "markdown",
   "metadata": {},
   "source": [
    "## Tìm lớp có điểm trung bình môn Ngữ Văn cao nhất."
   ]
  },
  {
   "cell_type": "code",
   "execution_count": 94,
   "metadata": {},
   "outputs": [
    {
     "name": "stdout",
     "output_type": "stream",
     "text": [
      "   Tên Giới tính  Điểm Toán  Điểm Anh Văn  Điểm Ngữ Văn   Lớp  Điểm trung bình\n",
      "6  Thu       Nam         10             7            10  12C1              9.0\n"
     ]
    }
   ],
   "source": [
    "students_df = pd.DataFrame(data)\n",
    "\n",
    "# Tính điểm trung bình môn Ngữ Văn\n",
    "students_df['Điểm trung bình'] = students_df[['Điểm Toán', 'Điểm Anh Văn', 'Điểm Ngữ Văn']].mean(axis=1)\n",
    "# Ý nghĩa của axis trong NumPy và pandas:\n",
    "# axis=0: Tính toán dọc theo các cột (chiều dọc).\n",
    "# axis=1: Tính toán dọc theo các hàng (chiều ngang).\n",
    "\n",
    "\n",
    "# Tìm l��p có điểm trung bình môn Ngữ Văn cao nhất\n",
    "max_avg_score = students_df['Điểm trung bình'].max()\n",
    "best_class = students_df[students_df['Điểm trung bình'] == max_avg_score]\n",
    "print(best_class)\n",
    "\n",
    "\n"
   ]
  },
  {
   "cell_type": "markdown",
   "metadata": {},
   "source": [
    "## Lọc học sinh có điểm Toán trên 8."
   ]
  },
  {
   "cell_type": "code",
   "execution_count": 96,
   "metadata": {},
   "outputs": [
    {
     "name": "stdout",
     "output_type": "stream",
     "text": [
      "       Tên Giới tính  Điểm Toán  Điểm Anh Văn  Điểm Ngữ Văn   Lớp\n",
      "2      Hai        Nữ         10             7             5  11B1\n",
      "5   Phuong        Nữ         10             6             9  12C2\n",
      "6      Thu       Nam         10             7            10  12C1\n",
      "7       Vu       Nam         10             9             7  10A2\n",
      "9     Hieu        Nữ         10             6             6  10A1\n",
      "10     Lan       Nam         10             5             5  12C1\n",
      "13    Kien        Nữ          9            10             7  10A1\n"
     ]
    }
   ],
   "source": [
    "students_df = pd.DataFrame(data)\n",
    "\n",
    "# Lọc học sinh có điểm Toán trên 8\n",
    "students_df[students_df['Điểm Toán'] > 8]\n",
    "print(students_df[students_df['Điểm Toán'] > 8])\n",
    "\n",
    "\n"
   ]
  }
 ],
 "metadata": {
  "kernelspec": {
   "display_name": ".venv",
   "language": "python",
   "name": "python3"
  },
  "language_info": {
   "codemirror_mode": {
    "name": "ipython",
    "version": 3
   },
   "file_extension": ".py",
   "mimetype": "text/x-python",
   "name": "python",
   "nbconvert_exporter": "python",
   "pygments_lexer": "ipython3",
   "version": "3.9.6"
  }
 },
 "nbformat": 4,
 "nbformat_minor": 2
}
