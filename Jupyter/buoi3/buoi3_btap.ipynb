{
 "cells": [
  {
   "cell_type": "code",
   "execution_count": 1,
   "metadata": {},
   "outputs": [
    {
     "name": "stdout",
     "output_type": "stream",
     "text": [
      "       Tên Giới tính  Điểm Toán  Điểm Anh Văn  Điểm Ngữ Văn   Lớp\n",
      "0      Hoa        Nữ          9             7             8  12C2\n",
      "1      Nam        Nữ          9             7            10  12C1\n",
      "2      Hai        Nữ         10             8             9  12C1\n",
      "3     Linh       Nam          5             7             8  11B1\n",
      "4     Nhan        Nữ          9             7            10  10A1\n",
      "5   Phuong        Nữ          7             7             9  10A2\n",
      "6      Thu        Nữ          8             8             5  11B2\n",
      "7       Vu        Nữ          7             5             5  12C1\n",
      "8      Bao       Nam          7             6             8  11B1\n",
      "9     Hieu       Nam          8             6            10  10A1\n",
      "10     Lan        Nữ          8             9             8  10A2\n",
      "11     Duy        Nữ          9             5             7  11B1\n",
      "12    Tuan        Nữ          6             8             7  12C2\n",
      "13    Kien       Nam          8            10             9  11B1\n",
      "14    Minh        Nữ         10             6            10  12C2\n",
      "15   Trung       Nam          5             7             7  11B2\n",
      "16   Quyen       Nam          5            10            10  10A2\n",
      "17    Tung        Nữ          6             6             7  10A1\n",
      "18    Hien        Nữ          6             7            10  11B2\n",
      "19     Mai        Nữ          7             7             8  11B2\n"
     ]
    }
   ],
   "source": [
    "import pandas as pd\n",
    "import random\n",
    "\n",
    "\n",
    "names = ['Hoa', 'Nam', 'Hai', 'Linh', 'Nhan', 'Phuong', 'Thu', 'Vu', 'Bao', 'Hieu', 'Lan', 'Duy', 'Tuan', 'Kien', 'Minh', 'Trung', 'Quyen', 'Tung', 'Hien', 'Mai']\n",
    "genders = ['Nam', 'Nữ']\n",
    "classes = ['10A1', '10A2', '11B1', '11B2', '12C1', '12C2']\n",
    "\n",
    "\n",
    "def generate_scores():\n",
    "    return [random.randint(5, 10) for _ in range(3)] \n",
    "\n",
    "\n",
    "data = {\n",
    "    'Tên': names,\n",
    "    'Giới tính': [random.choice(genders) for _ in names],\n",
    "    'Điểm Toán': [score[0] for score in [generate_scores() for _ in names]],\n",
    "    'Điểm Anh Văn': [score[1] for score in [generate_scores() for _ in names]],\n",
    "    'Điểm Ngữ Văn': [score[2] for score in [generate_scores() for _ in names]],\n",
    "    'Lớp': [random.choice(classes) for _ in names]\n",
    "}\n",
    "\n",
    "\n",
    "students_df = pd.DataFrame(data)\n",
    "\n",
    "print(students_df)"
   ]
  }
 ],
 "metadata": {
  "kernelspec": {
   "display_name": ".venv",
   "language": "python",
   "name": "python3"
  },
  "language_info": {
   "codemirror_mode": {
    "name": "ipython",
    "version": 3
   },
   "file_extension": ".py",
   "mimetype": "text/x-python",
   "name": "python",
   "nbconvert_exporter": "python",
   "pygments_lexer": "ipython3",
   "version": "3.9.6"
  }
 },
 "nbformat": 4,
 "nbformat_minor": 2
}
