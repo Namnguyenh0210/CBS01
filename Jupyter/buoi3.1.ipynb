{
 "cells": [
  {
   "cell_type": "code",
   "execution_count": 1,
   "metadata": {},
   "outputs": [
    {
     "name": "stdout",
     "output_type": "stream",
     "text": [
      "       Tên Giới tính  Điểm Toán  Điểm Anh Văn  Điểm Ngữ Văn   Lớp\n",
      "0      Hoa       Nam          8             6             9  12C1\n",
      "1      Nam        Nữ         10            10             8  12C2\n",
      "2      Hai       Nam          6             9             7  12C1\n",
      "3     Linh        Nữ         10             5            10  11B2\n",
      "4     Nhan        Nữ          7            10             5  10A1\n",
      "5   Phuong       Nam          8            10             9  10A2\n",
      "6      Thu       Nam         10            10             8  11B1\n",
      "7       Vu        Nữ          6             9             5  10A1\n",
      "8      Bao        Nữ          6             5             9  10A1\n",
      "9     Hieu       Nam          7             5             8  11B1\n",
      "10     Lan        Nữ          8             6            10  10A1\n",
      "11     Duy       Nam          6             8             6  10A2\n",
      "12    Tuan       Nam         10             6             9  12C1\n",
      "13    Kien       Nam          7             8            10  11B2\n",
      "14    Minh       Nam          5             8             9  11B2\n",
      "15   Trung       Nam          7             6             6  11B1\n",
      "16   Quyen       Nam          5             8            10  12C1\n",
      "17    Tung       Nam          5            10             6  11B2\n",
      "18    Hien       Nam          5             8             7  10A1\n",
      "19     Mai        Nữ          9            10             6  10A1\n"
     ]
    }
   ],
   "source": [
    "import pandas as pd\n",
    "import random\n",
    "\n",
    "\n",
    "names = ['Hoa', 'Nam', 'Hai', 'Linh', 'Nhan', 'Phuong', 'Thu', 'Vu', 'Bao', 'Hieu', 'Lan', 'Duy', 'Tuan', 'Kien', 'Minh', 'Trung', 'Quyen', 'Tung', 'Hien', 'Mai']\n",
    "genders = ['Nam', 'Nữ']\n",
    "classes = ['10A1', '10A2', '11B1', '11B2', '12C1', '12C2']\n",
    "\n",
    "\n",
    "def generate_scores():\n",
    "    return [random.randint(5, 10) for _ in range(3)] \n",
    "\n",
    "\n",
    "data = {\n",
    "    'Tên': names,\n",
    "    'Giới tính': [random.choice(genders) for _ in names],\n",
    "    'Điểm Toán': [score[0] for score in [generate_scores() for _ in names]],\n",
    "    'Điểm Anh Văn': [score[1] for score in [generate_scores() for _ in names]],\n",
    "    'Điểm Ngữ Văn': [score[2] for score in [generate_scores() for _ in names]],\n",
    "    'Lớp': [random.choice(classes) for _ in names]\n",
    "}\n",
    "\n",
    "\n",
    "students_df = pd.DataFrame(data)\n",
    "\n",
    "print(students_df)"
   ]
  },
  {
   "cell_type": "markdown",
   "metadata": {},
   "source": []
  }
 ],
 "metadata": {
  "kernelspec": {
   "display_name": ".venv",
   "language": "python",
   "name": "python3"
  },
  "language_info": {
   "codemirror_mode": {
    "name": "ipython",
    "version": 3
   },
   "file_extension": ".py",
   "mimetype": "text/x-python",
   "name": "python",
   "nbconvert_exporter": "python",
   "pygments_lexer": "ipython3",
   "version": "3.9.6"
  }
 },
 "nbformat": 4,
 "nbformat_minor": 2
}
