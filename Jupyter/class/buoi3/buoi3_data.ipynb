{
 "cells": [
  {
   "cell_type": "code",
   "execution_count": 1,
   "metadata": {},
   "outputs": [
    {
     "ename": "ModuleNotFoundError",
     "evalue": "No module named 'pandas'",
     "output_type": "error",
     "traceback": [
      "\u001b[0;31m---------------------------------------------------------------------------\u001b[0m",
      "\u001b[0;31mModuleNotFoundError\u001b[0m                       Traceback (most recent call last)",
      "Cell \u001b[0;32mIn[1], line 1\u001b[0m\n\u001b[0;32m----> 1\u001b[0m \u001b[38;5;28;01mimport\u001b[39;00m\u001b[38;5;250m \u001b[39m\u001b[38;5;21;01mpandas\u001b[39;00m\u001b[38;5;250m \u001b[39m\u001b[38;5;28;01mas\u001b[39;00m\u001b[38;5;250m \u001b[39m\u001b[38;5;21;01mpd\u001b[39;00m\n\u001b[1;32m      2\u001b[0m \u001b[38;5;28;01mimport\u001b[39;00m\u001b[38;5;250m \u001b[39m\u001b[38;5;21;01mnumpy\u001b[39;00m\u001b[38;5;250m \u001b[39m\u001b[38;5;28;01mas\u001b[39;00m\u001b[38;5;250m \u001b[39m\u001b[38;5;21;01mnp\u001b[39;00m\n",
      "\u001b[0;31mModuleNotFoundError\u001b[0m: No module named 'pandas'"
     ]
    }
   ],
   "source": [
    "import pandas as pd\n",
    "import numpy as np"
   ]
  },
  {
   "cell_type": "code",
   "execution_count": null,
   "metadata": {},
   "outputs": [],
   "source": [
    "fruits = pd.Series(['apples', 'oranges', 'bananas', 'reversed'])\n",
    "animals = pd.Series(index=['dogs', 'cats', 'birds', 'fish'], \n",
    "                    data=['gau', 'memoryview', 'ord', 'fishship', ])\n",
    "print(fruits)\n",
    "print(animals)"
   ]
  },
  {
   "cell_type": "markdown",
   "metadata": {},
   "source": [
    "## Tao 2 bang khac nhau"
   ]
  },
  {
   "cell_type": "code",
   "execution_count": null,
   "metadata": {},
   "outputs": [],
   "source": [
    "import pandas as pd\n",
    "\n",
    "# Tạo hai Series\n",
    "students = pd.Series([1, 2, 3, 4, 5, 6, 7, 8, 9, 10], \n",
    "                     index=['Alice', 'Bob', 'Charles', 'David', 'Eric', 'Frank', 'George', 'Hannah', 'Ivan', 'John'])\n",
    "\n",
    "index2 = pd.Series([1, 2, 3, 4, 5, 6, 7, 8, 9, 10], \n",
    "                   index=['Alice', 'Bob', 'Charles', 'David', 'Eric', 'Frank', 'George', 'Hannah', 'Ivan', 'John'])\n",
    "\n",
    "# In kết quả\n",
    "print(\"Students Series:\\n\", students)\n",
    "print(\"\\nIndex2 Series:\\n\", index2)\n"
   ]
  },
  {
   "cell_type": "code",
   "execution_count": null,
   "metadata": {},
   "outputs": [],
   "source": [
    "import pandas as pd\n",
    "\n",
    "# Tạo hai Series\n",
    "students = pd.Series([1, 2, 3, 4, 5, 6, 7, 8, 9, 10], \n",
    "                     index=['Alice', 'Bob', 'Charles', 'David', 'Eric', 'Frank', 'George', 'Hannah', 'Ivan', 'John'])\n",
    "\n",
    "index2 = pd.Series([10, 9, 8, 7, 6, 5, 4, 3, 2, 1], \n",
    "                   index=['Alice', 'Bob', 'Charles', 'David', 'Eric', 'Frank', 'George', 'Hannah', 'Ivan', 'John'])\n",
    "\n",
    "# Tạo DataFrame với 4 cột\n",
    "data = pd.DataFrame({\n",
    "    \"Students\": students,\n",
    "    \"Index2\": index2,\n",
    "    \"Column3\": students + index2,  # Ví dụ: Tổng hai Series\n",
    "    \"Column4\": students * index2  # Ví dụ: Tích hai Series\n",
    "})\n",
    "\n",
    "# In kết quả\n",
    "print(data)\n"
   ]
  },
  {
   "cell_type": "markdown",
   "metadata": {},
   "source": []
  },
  {
   "cell_type": "code",
   "execution_count": null,
   "metadata": {},
   "outputs": [],
   "source": [
    "\n",
    "\n",
    "student = pd.Series(\n",
    "    data=['Hoa', 'Nam', 'Hai', 'Linh', 'Nhan', 'Phuong', 'Thu', 'Vu', 'Bao'],\n",
    "    index=[37, 48, 42, 39, 41, 38, 40, 40, 100]\n",
    ")\n",
    "\n",
    "print(student)\n"
   ]
  },
  {
   "cell_type": "markdown",
   "metadata": {},
   "source": [
    "## Tìm và in cân nặng của \"Thu\""
   ]
  },
  {
   "cell_type": "code",
   "execution_count": null,
   "metadata": {},
   "outputs": [],
   "source": [
    "\n",
    "# Tìm và in cân nặng của \"Thu\"\n",
    "thu_weight = student[student == \"Thu\"].index[0]\n",
    "print(\"Cân nặng của Thu là:\", thu_weight)\n",
    "\n",
    "\n"
   ]
  },
  {
   "cell_type": "markdown",
   "metadata": {},
   "source": [
    "## In ra thông tin Bảo có phải là nguuoi có cân nặng lớn nhất lớp không\n"
   ]
  },
  {
   "cell_type": "code",
   "execution_count": null,
   "metadata": {},
   "outputs": [],
   "source": [
    "# Tìm cân nặng lớn nhất\n",
    "max_weight = student.index.max()  # Giá trị cân nặng lớn nhất\n",
    "heaviest_person = student[max_weight]  # Người có cân nặng lớn nhất\n",
    "\n",
    "# Kiểm tra và in kết quả\n",
    "if heaviest_person == \"Bao\":\n",
    "    print(\"Bảo là người có cân nặng lớn nhất lớp với cân nặng:\", max_weight)\n",
    "else:\n",
    "    print(\"Bảo không phải là người có cân nặng lớn nhất lớp.\")"
   ]
  },
  {
   "cell_type": "markdown",
   "metadata": {},
   "source": [
    "## DataFrame"
   ]
  },
  {
   "cell_type": "code",
   "execution_count": null,
   "metadata": {},
   "outputs": [],
   "source": [
    "animals = pd.DataFrame({\n",
    "    \"dongVat\" : ['dog', 'cat', 'bird', 'fish'],\n",
    "    \"tuoiTho\" : [25,25,70,50],\n",
    "    \"loai\" : ['có vú', 'linh trưởng', 'có vú', 'fish']\n",
    "})\n",
    "\n",
    "print(animals)\n"
   ]
  },
  {
   "cell_type": "markdown",
   "metadata": {},
   "source": [
    "## Đọc viết file csv\n"
   ]
  },
  {
   "cell_type": "code",
   "execution_count": null,
   "metadata": {},
   "outputs": [],
   "source": [
    "import pandas as pd\n",
    "\n",
    "# Tạo dữ liệu\n",
    "data = {\n",
    "    'Name': ['John', 'Jane', 'Doe'],\n",
    "    'Age': [30, 25, 35],\n",
    "    'City': ['New York', 'Los Angeles', 'Chicago']\n",
    "}\n",
    "\n",
    "# Tạo DataFrame từ dữ liệu\n",
    "df = pd.DataFrame(data)\n",
    "\n",
    "# Xuất DataFrame ra tệp CSV\n",
    "df.to_csv('output.csv', index=False)\n",
    "\n",
    "print(\"DataFrame đã được lưu vào tệp 'output.csv'.\")\n",
    "\n",
    "## Đọc file csv\n",
    "df = pd.read_csv('output.csv')\n",
    "print(df)\n",
    "df = df.to_csv('output.csv', index=False)\n",
    "print(df)\n",
    "df_read = pd.read_csv('output.csv')\n",
    "\n",
    "\n",
    "\n"
   ]
  },
  {
   "cell_type": "markdown",
   "metadata": {},
   "source": [
    "## Đọc viết file excel\n"
   ]
  },
  {
   "cell_type": "code",
   "execution_count": null,
   "metadata": {},
   "outputs": [],
   "source": [
    "import pandas as pd\n",
    "\n",
    "# Tạo dữ liệu\n",
    "data = {\n",
    "    'Name': ['John', 'Jane', 'Doe'],\n",
    "    'Age': [30, 25, 35],\n",
    "    'City': ['New York', 'Los Angeles', 'Chicago']\n",
    "}\n",
    "\n",
    "# Tạo DataFrame từ dữ liệu\n",
    "df = pd.DataFrame(data)\n",
    "\n",
    "# Xuất DataFrame ra tệp Excel\n",
    "df.to_excel('output.xlsx', index=False)\n",
    "\n",
    "print(\"DataFrame đã được lưu vào tệp 'output.xlsx'.\")\n"
   ]
  },
  {
   "cell_type": "markdown",
   "metadata": {},
   "source": [
    "## lọc cột trong DataFrame"
   ]
  },
  {
   "cell_type": "code",
   "execution_count": null,
   "metadata": {},
   "outputs": [],
   "source": [
    "animals[[\"dongVat\", \"tuoiTho\"]]"
   ]
  },
  {
   "cell_type": "markdown",
   "metadata": {},
   "source": [
    "## loc hàng trong dataFrame"
   ]
  },
  {
   "cell_type": "code",
   "execution_count": null,
   "metadata": {},
   "outputs": [],
   "source": [
    "animals.loc[0:4, [\"dongVat\", \"tuoiTho\"]]"
   ]
  },
  {
   "cell_type": "markdown",
   "metadata": {},
   "source": [
    "## Lọc có điều kiện\n"
   ]
  },
  {
   "cell_type": "code",
   "execution_count": null,
   "metadata": {},
   "outputs": [],
   "source": [
    "age_data = animals[[\"tuoiTho\", \"dongVat\"]]\n",
    "age_data = age_data[age_data[\"tuoiTho\"] > 25]\n",
    "print(age_data)"
   ]
  },
  {
   "cell_type": "markdown",
   "metadata": {},
   "source": [
    "## kết hợp lọc "
   ]
  },
  {
   "cell_type": "code",
   "execution_count": null,
   "metadata": {},
   "outputs": [],
   "source": [
    "animals.loc[animals.tuoiTho > 25, [\"dongVat\", \"tuoiTho\"]]"
   ]
  }
 ],
 "metadata": {
  "kernelspec": {
   "display_name": "Python 3",
   "language": "python",
   "name": "python3"
  },
  "language_info": {
   "codemirror_mode": {
    "name": "ipython",
    "version": 3
   },
   "file_extension": ".py",
   "mimetype": "text/x-python",
   "name": "python",
   "nbconvert_exporter": "python",
   "pygments_lexer": "ipython3",
   "version": "3.13.1"
  }
 },
 "nbformat": 4,
 "nbformat_minor": 2
}
