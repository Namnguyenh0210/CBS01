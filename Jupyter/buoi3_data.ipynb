{
 "cells": [
  {
   "cell_type": "code",
   "execution_count": 33,
   "metadata": {},
   "outputs": [],
   "source": [
    "import pandas as pd\n",
    "import numpy as np"
   ]
  },
  {
   "cell_type": "code",
   "execution_count": 34,
   "metadata": {},
   "outputs": [
    {
     "name": "stdout",
     "output_type": "stream",
     "text": [
      "0      apples\n",
      "1     oranges\n",
      "2     bananas\n",
      "3    reversed\n",
      "dtype: object\n",
      "dogs            gau\n",
      "cats     memoryview\n",
      "birds           ord\n",
      "fish       fishship\n",
      "dtype: object\n"
     ]
    }
   ],
   "source": [
    "fruits = pd.Series(['apples', 'oranges', 'bananas', 'reversed'])\n",
    "animals = pd.Series(index=['dogs', 'cats', 'birds', 'fish'], \n",
    "                    data=['gau', 'memoryview', 'ord', 'fishship', ])\n",
    "print(fruits)\n",
    "print(animals)"
   ]
  },
  {
   "cell_type": "markdown",
   "metadata": {},
   "source": [
    "## Tao 2 bang khac nhau"
   ]
  },
  {
   "cell_type": "code",
   "execution_count": 35,
   "metadata": {},
   "outputs": [
    {
     "name": "stdout",
     "output_type": "stream",
     "text": [
      "Students Series:\n",
      " Alice       1\n",
      "Bob         2\n",
      "Charles     3\n",
      "David       4\n",
      "Eric        5\n",
      "Frank       6\n",
      "George      7\n",
      "Hannah      8\n",
      "Ivan        9\n",
      "John       10\n",
      "dtype: int64\n",
      "\n",
      "Index2 Series:\n",
      " Alice       1\n",
      "Bob         2\n",
      "Charles     3\n",
      "David       4\n",
      "Eric        5\n",
      "Frank       6\n",
      "George      7\n",
      "Hannah      8\n",
      "Ivan        9\n",
      "John       10\n",
      "dtype: int64\n"
     ]
    }
   ],
   "source": [
    "import pandas as pd\n",
    "\n",
    "# Tạo hai Series\n",
    "students = pd.Series([1, 2, 3, 4, 5, 6, 7, 8, 9, 10], \n",
    "                     index=['Alice', 'Bob', 'Charles', 'David', 'Eric', 'Frank', 'George', 'Hannah', 'Ivan', 'John'])\n",
    "\n",
    "index2 = pd.Series([1, 2, 3, 4, 5, 6, 7, 8, 9, 10], \n",
    "                   index=['Alice', 'Bob', 'Charles', 'David', 'Eric', 'Frank', 'George', 'Hannah', 'Ivan', 'John'])\n",
    "\n",
    "# In kết quả\n",
    "print(\"Students Series:\\n\", students)\n",
    "print(\"\\nIndex2 Series:\\n\", index2)\n"
   ]
  },
  {
   "cell_type": "code",
   "execution_count": 39,
   "metadata": {},
   "outputs": [
    {
     "name": "stdout",
     "output_type": "stream",
     "text": [
      "         Students  Index2  Column3  Column4\n",
      "Alice           1      10       11       10\n",
      "Bob             2       9       11       18\n",
      "Charles         3       8       11       24\n",
      "David           4       7       11       28\n",
      "Eric            5       6       11       30\n",
      "Frank           6       5       11       30\n",
      "George          7       4       11       28\n",
      "Hannah          8       3       11       24\n",
      "Ivan            9       2       11       18\n",
      "John           10       1       11       10\n"
     ]
    }
   ],
   "source": [
    "import pandas as pd\n",
    "\n",
    "# Tạo hai Series\n",
    "students = pd.Series([1, 2, 3, 4, 5, 6, 7, 8, 9, 10], \n",
    "                     index=['Alice', 'Bob', 'Charles', 'David', 'Eric', 'Frank', 'George', 'Hannah', 'Ivan', 'John'])\n",
    "\n",
    "index2 = pd.Series([10, 9, 8, 7, 6, 5, 4, 3, 2, 1], \n",
    "                   index=['Alice', 'Bob', 'Charles', 'David', 'Eric', 'Frank', 'George', 'Hannah', 'Ivan', 'John'])\n",
    "\n",
    "# Tạo DataFrame với 4 cột\n",
    "data = pd.DataFrame({\n",
    "    \"Students\": students,\n",
    "    \"Index2\": index2,\n",
    "    \"Column3\": students + index2,  # Ví dụ: Tổng hai Series\n",
    "    \"Column4\": students * index2  # Ví dụ: Tích hai Series\n",
    "})\n",
    "\n",
    "# In kết quả\n",
    "print(data)\n"
   ]
  },
  {
   "cell_type": "markdown",
   "metadata": {},
   "source": []
  },
  {
   "cell_type": "code",
   "execution_count": 20,
   "metadata": {},
   "outputs": [
    {
     "name": "stdout",
     "output_type": "stream",
     "text": [
      "37        Hoa\n",
      "48        Nam\n",
      "42        Hai\n",
      "39       Linh\n",
      "41       Nhan\n",
      "38     Phuong\n",
      "40        Thu\n",
      "40         Vu\n",
      "100       Bao\n",
      "dtype: object\n"
     ]
    }
   ],
   "source": [
    "\n",
    "\n",
    "student = pd.Series(\n",
    "    data=['Hoa', 'Nam', 'Hai', 'Linh', 'Nhan', 'Phuong', 'Thu', 'Vu', 'Bao'],\n",
    "    index=[37, 48, 42, 39, 41, 38, 40, 40, 100]\n",
    ")\n",
    "\n",
    "print(student)\n"
   ]
  },
  {
   "cell_type": "markdown",
   "metadata": {},
   "source": [
    "## Tìm và in cân nặng của \"Thu\""
   ]
  },
  {
   "cell_type": "code",
   "execution_count": 28,
   "metadata": {},
   "outputs": [
    {
     "name": "stdout",
     "output_type": "stream",
     "text": [
      "Cân nặng của Thu là: 40\n"
     ]
    }
   ],
   "source": [
    "\n",
    "# Tìm và in cân nặng của \"Thu\"\n",
    "thu_weight = student[student == \"Thu\"].index[0]\n",
    "print(\"Cân nặng của Thu là:\", thu_weight)\n",
    "\n",
    "\n"
   ]
  },
  {
   "cell_type": "markdown",
   "metadata": {},
   "source": [
    "## In ra thông tin Bảo có phải là nguuoi có cân nặng lớn nhất lớp không\n"
   ]
  },
  {
   "cell_type": "code",
   "execution_count": 37,
   "metadata": {},
   "outputs": [
    {
     "name": "stdout",
     "output_type": "stream",
     "text": [
      "Bảo là người có cân nặng lớn nhất lớp với cân nặng: 100\n"
     ]
    }
   ],
   "source": [
    "# Tìm cân nặng lớn nhất\n",
    "max_weight = student.index.max()  # Giá trị cân nặng lớn nhất\n",
    "heaviest_person = student[max_weight]  # Người có cân nặng lớn nhất\n",
    "\n",
    "# Kiểm tra và in kết quả\n",
    "if heaviest_person == \"Bao\":\n",
    "    print(\"Bảo là người có cân nặng lớn nhất lớp với cân nặng:\", max_weight)\n",
    "else:\n",
    "    print(\"Bảo không phải là người có cân nặng lớn nhất lớp.\")"
   ]
  },
  {
   "cell_type": "markdown",
   "metadata": {},
   "source": [
    "## DataFrame"
   ]
  },
  {
   "cell_type": "code",
   "execution_count": 43,
   "metadata": {},
   "outputs": [
    {
     "name": "stdout",
     "output_type": "stream",
     "text": [
      "  dongVat  tuoiTho         loai\n",
      "0     dog       25        có vú\n",
      "1     cat       25  linh trưởng\n",
      "2    bird       70        có vú\n",
      "3    fish       50         fish\n"
     ]
    }
   ],
   "source": [
    "animals = pd.DataFrame({\n",
    "    \"dongVat\" : ['dog', 'cat', 'bird', 'fish'],\n",
    "    \"tuoiTho\" : [25,25,70,50],\n",
    "    \"loai\" : ['có vú', 'linh trưởng', 'có vú', 'fish']\n",
    "})\n",
    "\n",
    "print(animals)\n"
   ]
  },
  {
   "cell_type": "markdown",
   "metadata": {},
   "source": [
    "## Đọc viết file csv\n"
   ]
  },
  {
   "cell_type": "code",
   "execution_count": 46,
   "metadata": {},
   "outputs": [
    {
     "name": "stdout",
     "output_type": "stream",
     "text": [
      "DataFrame đã được lưu vào tệp 'output.csv'.\n",
      "   Name  Age         City\n",
      "0  John   30     New York\n",
      "1  Jane   25  Los Angeles\n",
      "2   Doe   35      Chicago\n",
      "None\n"
     ]
    }
   ],
   "source": [
    "import pandas as pd\n",
    "\n",
    "# Tạo dữ liệu\n",
    "data = {\n",
    "    'Name': ['John', 'Jane', 'Doe'],\n",
    "    'Age': [30, 25, 35],\n",
    "    'City': ['New York', 'Los Angeles', 'Chicago']\n",
    "}\n",
    "\n",
    "# Tạo DataFrame từ dữ liệu\n",
    "df = pd.DataFrame(data)\n",
    "\n",
    "# Xuất DataFrame ra tệp CSV\n",
    "df.to_csv('output.csv', index=False)\n",
    "\n",
    "print(\"DataFrame đã được lưu vào tệp 'output.csv'.\")\n",
    "\n",
    "## Đọc file csv\n",
    "df = pd.read_csv('output.csv')\n",
    "print(df)\n",
    "df = df.to_csv('output.csv', index=False)\n",
    "print(df)\n",
    "df_read = pd.read_csv('output.csv')\n",
    "\n",
    "\n",
    "\n"
   ]
  },
  {
   "cell_type": "markdown",
   "metadata": {},
   "source": [
    "## Đọc viết file excel\n"
   ]
  },
  {
   "cell_type": "code",
   "execution_count": 68,
   "metadata": {},
   "outputs": [
    {
     "name": "stdout",
     "output_type": "stream",
     "text": [
      "DataFrame đã được lưu vào tệp 'output.xlsx'.\n"
     ]
    }
   ],
   "source": [
    "import pandas as pd\n",
    "\n",
    "# Tạo dữ liệu\n",
    "data = {\n",
    "    'Name': ['John', 'Jane', 'Doe'],\n",
    "    'Age': [30, 25, 35],\n",
    "    'City': ['New York', 'Los Angeles', 'Chicago']\n",
    "}\n",
    "\n",
    "# Tạo DataFrame từ dữ liệu\n",
    "df = pd.DataFrame(data)\n",
    "\n",
    "# Xuất DataFrame ra tệp Excel\n",
    "df.to_excel('output.xlsx', index=False)\n",
    "\n",
    "print(\"DataFrame đã được lưu vào tệp 'output.xlsx'.\")\n"
   ]
  },
  {
   "cell_type": "markdown",
   "metadata": {},
   "source": [
    "## lọc cột trong DataFrame"
   ]
  },
  {
   "cell_type": "code",
   "execution_count": 48,
   "metadata": {},
   "outputs": [
    {
     "data": {
      "text/html": [
       "<div>\n",
       "<style scoped>\n",
       "    .dataframe tbody tr th:only-of-type {\n",
       "        vertical-align: middle;\n",
       "    }\n",
       "\n",
       "    .dataframe tbody tr th {\n",
       "        vertical-align: top;\n",
       "    }\n",
       "\n",
       "    .dataframe thead th {\n",
       "        text-align: right;\n",
       "    }\n",
       "</style>\n",
       "<table border=\"1\" class=\"dataframe\">\n",
       "  <thead>\n",
       "    <tr style=\"text-align: right;\">\n",
       "      <th></th>\n",
       "      <th>dongVat</th>\n",
       "      <th>tuoiTho</th>\n",
       "    </tr>\n",
       "  </thead>\n",
       "  <tbody>\n",
       "    <tr>\n",
       "      <th>0</th>\n",
       "      <td>dog</td>\n",
       "      <td>25</td>\n",
       "    </tr>\n",
       "    <tr>\n",
       "      <th>1</th>\n",
       "      <td>cat</td>\n",
       "      <td>25</td>\n",
       "    </tr>\n",
       "    <tr>\n",
       "      <th>2</th>\n",
       "      <td>bird</td>\n",
       "      <td>70</td>\n",
       "    </tr>\n",
       "    <tr>\n",
       "      <th>3</th>\n",
       "      <td>fish</td>\n",
       "      <td>50</td>\n",
       "    </tr>\n",
       "  </tbody>\n",
       "</table>\n",
       "</div>"
      ],
      "text/plain": [
       "  dongVat  tuoiTho\n",
       "0     dog       25\n",
       "1     cat       25\n",
       "2    bird       70\n",
       "3    fish       50"
      ]
     },
     "execution_count": 48,
     "metadata": {},
     "output_type": "execute_result"
    }
   ],
   "source": [
    "animals[[\"dongVat\", \"tuoiTho\"]]"
   ]
  },
  {
   "cell_type": "markdown",
   "metadata": {},
   "source": [
    "## loc hàng trong dataFrame"
   ]
  },
  {
   "cell_type": "code",
   "execution_count": 65,
   "metadata": {},
   "outputs": [
    {
     "data": {
      "text/html": [
       "<div>\n",
       "<style scoped>\n",
       "    .dataframe tbody tr th:only-of-type {\n",
       "        vertical-align: middle;\n",
       "    }\n",
       "\n",
       "    .dataframe tbody tr th {\n",
       "        vertical-align: top;\n",
       "    }\n",
       "\n",
       "    .dataframe thead th {\n",
       "        text-align: right;\n",
       "    }\n",
       "</style>\n",
       "<table border=\"1\" class=\"dataframe\">\n",
       "  <thead>\n",
       "    <tr style=\"text-align: right;\">\n",
       "      <th></th>\n",
       "      <th>dongVat</th>\n",
       "      <th>tuoiTho</th>\n",
       "    </tr>\n",
       "  </thead>\n",
       "  <tbody>\n",
       "    <tr>\n",
       "      <th>0</th>\n",
       "      <td>dog</td>\n",
       "      <td>25</td>\n",
       "    </tr>\n",
       "    <tr>\n",
       "      <th>1</th>\n",
       "      <td>cat</td>\n",
       "      <td>25</td>\n",
       "    </tr>\n",
       "    <tr>\n",
       "      <th>2</th>\n",
       "      <td>bird</td>\n",
       "      <td>70</td>\n",
       "    </tr>\n",
       "    <tr>\n",
       "      <th>3</th>\n",
       "      <td>fish</td>\n",
       "      <td>50</td>\n",
       "    </tr>\n",
       "  </tbody>\n",
       "</table>\n",
       "</div>"
      ],
      "text/plain": [
       "  dongVat  tuoiTho\n",
       "0     dog       25\n",
       "1     cat       25\n",
       "2    bird       70\n",
       "3    fish       50"
      ]
     },
     "execution_count": 65,
     "metadata": {},
     "output_type": "execute_result"
    }
   ],
   "source": [
    "animals.loc[0:4, [\"dongVat\", \"tuoiTho\"]]"
   ]
  },
  {
   "cell_type": "markdown",
   "metadata": {},
   "source": [
    "## Lọc có điều kiện\n"
   ]
  },
  {
   "cell_type": "code",
   "execution_count": 60,
   "metadata": {},
   "outputs": [
    {
     "name": "stdout",
     "output_type": "stream",
     "text": [
      "   tuoiTho dongVat\n",
      "2       70    bird\n",
      "3       50    fish\n"
     ]
    }
   ],
   "source": [
    "age_data = animals[[\"tuoiTho\", \"dongVat\"]]\n",
    "age_data = age_data[age_data[\"tuoiTho\"] > 25]\n",
    "print(age_data)"
   ]
  },
  {
   "cell_type": "markdown",
   "metadata": {},
   "source": [
    "## kết hợp lọc "
   ]
  },
  {
   "cell_type": "code",
   "execution_count": 66,
   "metadata": {},
   "outputs": [
    {
     "data": {
      "text/html": [
       "<div>\n",
       "<style scoped>\n",
       "    .dataframe tbody tr th:only-of-type {\n",
       "        vertical-align: middle;\n",
       "    }\n",
       "\n",
       "    .dataframe tbody tr th {\n",
       "        vertical-align: top;\n",
       "    }\n",
       "\n",
       "    .dataframe thead th {\n",
       "        text-align: right;\n",
       "    }\n",
       "</style>\n",
       "<table border=\"1\" class=\"dataframe\">\n",
       "  <thead>\n",
       "    <tr style=\"text-align: right;\">\n",
       "      <th></th>\n",
       "      <th>dongVat</th>\n",
       "      <th>tuoiTho</th>\n",
       "    </tr>\n",
       "  </thead>\n",
       "  <tbody>\n",
       "    <tr>\n",
       "      <th>2</th>\n",
       "      <td>bird</td>\n",
       "      <td>70</td>\n",
       "    </tr>\n",
       "    <tr>\n",
       "      <th>3</th>\n",
       "      <td>fish</td>\n",
       "      <td>50</td>\n",
       "    </tr>\n",
       "  </tbody>\n",
       "</table>\n",
       "</div>"
      ],
      "text/plain": [
       "  dongVat  tuoiTho\n",
       "2    bird       70\n",
       "3    fish       50"
      ]
     },
     "execution_count": 66,
     "metadata": {},
     "output_type": "execute_result"
    }
   ],
   "source": [
    "animals.loc[animals.tuoiTho > 25, [\"dongVat\", \"tuoiTho\"]]"
   ]
  }
 ],
 "metadata": {
  "kernelspec": {
   "display_name": ".venv",
   "language": "python",
   "name": "python3"
  },
  "language_info": {
   "codemirror_mode": {
    "name": "ipython",
    "version": 3
   },
   "file_extension": ".py",
   "mimetype": "text/x-python",
   "name": "python",
   "nbconvert_exporter": "python",
   "pygments_lexer": "ipython3",
   "version": "3.9.6"
  }
 },
 "nbformat": 4,
 "nbformat_minor": 2
}
