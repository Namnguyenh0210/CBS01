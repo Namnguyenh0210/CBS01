{
 "cells": [
  {
   "cell_type": "code",
   "execution_count": 4,
   "metadata": {},
   "outputs": [
    {
     "name": "stdout",
     "output_type": "stream",
     "text": [
      "<class 'pandas.core.frame.DataFrame'>\n",
      "RangeIndex: 10 entries, 0 to 9\n",
      "Data columns (total 5 columns):\n",
      " #   Column    Non-Null Count  Dtype  \n",
      "---  ------    --------------  -----  \n",
      " 0   Make      9 non-null      object \n",
      " 1   Colour    9 non-null      object \n",
      " 2   Odometer  6 non-null      float64\n",
      " 3   Doors     9 non-null      float64\n",
      " 4   Price     8 non-null      object \n",
      "dtypes: float64(2), object(3)\n",
      "memory usage: 528.0+ bytes\n",
      "     Make Colour  Odometer  Doors    Price\n",
      "0  Toyota  White  150043.0    4.0   $4,000\n",
      "1   Honda    Red   87899.0    4.0   $5,000\n",
      "2  Toyota   Blue       NaN    3.0   $7,000\n",
      "3     BMW  Black   11179.0    5.0  $22,000\n",
      "4  Nissan  White  213095.0    4.0   $3,500\n",
      "\n",
      "Chiếc xe đắt nhất:\n",
      "Make            BMW\n",
      "Colour        Black\n",
      "Odometer    11179.0\n",
      "Doors           5.0\n",
      "Price       22000.0\n",
      "Name: 3, dtype: object\n",
      "\n",
      "Chiếc xe có giá trên mỗi km thấp nhất:\n",
      "Make              Nissan\n",
      "Colour             White\n",
      "Odometer        213095.0\n",
      "Doors                4.0\n",
      "Price             3500.0\n",
      "Price_per_km    0.016425\n",
      "Name: 4, dtype: object\n",
      "\n",
      "Trung bình giá xe theo hãng:\n",
      "Make\n",
      "BMW       22000.000000\n",
      "Honda      6250.000000\n",
      "Toyota     5166.666667\n",
      "Nissan     3500.000000\n",
      "Name: Price, dtype: float64\n",
      "\n",
      "Hãng xe có trung bình giá bán cao nhất: BMW\n"
     ]
    }
   ],
   "source": [
    "import pandas as pd\n",
    "\n",
    "\n",
    "df = pd.read_csv(\"car-sales-data.csv\")\n",
    "\n",
    "df.info()\n",
    "print(df.head())\n",
    "\n",
    "## \n",
    "if df['Price'].dtype == 'object':\n",
    "    df['Price'] = df['Price'].replace(r'[\\$,]', '', regex=True).astype(float)\n",
    "\n",
    "## \n",
    "if df['Odometer'].dtype == 'object':\n",
    "    df['Odometer'] = df['Odometer'].replace(r'[\\,]', '', regex=True).astype(float)\n",
    "\n",
    "# Câu 1: \n",
    "most_expensive_car = df.loc[df['Price'].idxmax()]\n",
    "print(\"\\nChiếc xe đắt nhất:\")\n",
    "print(most_expensive_car)\n",
    "\n",
    "# Câu 2: \n",
    "df['Price_per_km'] = df['Price'] / df['Odometer']\n",
    "cheapest_per_km = df.loc[df['Price_per_km'].idxmin()]\n",
    "print(\"\\nChiếc xe có giá trên mỗi km thấp nhất:\")\n",
    "print(cheapest_per_km)\n",
    "\n",
    "# Câu 3: \n",
    "avg_price_per_make = df.groupby('Make')['Price'].mean().sort_values(ascending=False)\n",
    "print(\"\\nTrung bình giá xe theo hãng:\")\n",
    "print(avg_price_per_make)\n",
    "\n",
    "highest_avg_price_make = avg_price_per_make.idxmax()\n",
    "print(f\"\\nHãng xe có trung bình giá bán cao nhất: {highest_avg_price_make}\")\n"
   ]
  }
 ],
 "metadata": {
  "kernelspec": {
   "display_name": ".venv",
   "language": "python",
   "name": "python3"
  },
  "language_info": {
   "codemirror_mode": {
    "name": "ipython",
    "version": 3
   },
   "file_extension": ".py",
   "mimetype": "text/x-python",
   "name": "python",
   "nbconvert_exporter": "python",
   "pygments_lexer": "ipython3",
   "version": "3.9.6"
  }
 },
 "nbformat": 4,
 "nbformat_minor": 2
}
